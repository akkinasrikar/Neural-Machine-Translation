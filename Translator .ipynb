{
  "nbformat": 4,
  "nbformat_minor": 0,
  "metadata": {
    "kernelspec": {
      "display_name": "Python 3",
      "language": "python",
      "name": "python3"
    },
    "language_info": {
      "codemirror_mode": {
        "name": "ipython",
        "version": 3
      },
      "file_extension": ".py",
      "mimetype": "text/x-python",
      "name": "python",
      "nbconvert_exporter": "python",
      "pygments_lexer": "ipython3",
      "version": "3.7.3"
    },
    "colab": {
      "name": "Translator.ipynb",
      "provenance": [],
      "collapsed_sections": []
    },
    "accelerator": "GPU"
  },
  "cells": [
    {
      "cell_type": "code",
      "metadata": {
        "id": "9L0RHpVc4YxM"
      },
      "source": [
        "import tensorflow as tf"
      ],
      "execution_count": 1,
      "outputs": []
    },
    {
      "cell_type": "code",
      "metadata": {
        "id": "EaD6bFAC4YxS"
      },
      "source": [
        "import matplotlib.pyplot as plt\n",
        "import matplotlib.ticker as ticker\n",
        "from sklearn.model_selection import train_test_split"
      ],
      "execution_count": 2,
      "outputs": []
    },
    {
      "cell_type": "code",
      "metadata": {
        "id": "xoVWWVGn4YxT"
      },
      "source": [
        "import re\n",
        "import os\n",
        "import io\n",
        "import time\n",
        "import numpy as np\n",
        "import unicodedata"
      ],
      "execution_count": 3,
      "outputs": []
    },
    {
      "cell_type": "code",
      "metadata": {
        "id": "_C4kf7mV4YxU",
        "colab": {
          "base_uri": "https://localhost:8080/"
        },
        "outputId": "5b0bd51e-c319-48b6-c48a-55ae1c2b6693"
      },
      "source": [
        "path_to_zip=tf.keras.utils.get_file('spa-eng.zip', \n",
        "                                 origin='http://storage.googleapis.com/download.tensorflow.org/data/spa-eng.zip',\n",
        "                                   extract=True)"
      ],
      "execution_count": 19,
      "outputs": [
        {
          "output_type": "stream",
          "text": [
            "Downloading data from http://storage.googleapis.com/download.tensorflow.org/data/spa-eng.zip\n",
            "2646016/2638744 [==============================] - 0s 0us/step\n"
          ],
          "name": "stdout"
        }
      ]
    },
    {
      "cell_type": "code",
      "metadata": {
        "id": "muRZJtqy4YxV"
      },
      "source": [
        "path_to_file=os.path.dirname(path_to_zip)+\"/spa-eng/spa.txt\""
      ],
      "execution_count": 20,
      "outputs": []
    },
    {
      "cell_type": "code",
      "metadata": {
        "colab": {
          "base_uri": "https://localhost:8080/",
          "height": 35
        },
        "id": "YoH4pzuf4YxW",
        "outputId": "f0375258-4923-4f02-ba9c-aa75513492da"
      },
      "source": [
        "path_to_file"
      ],
      "execution_count": 21,
      "outputs": [
        {
          "output_type": "execute_result",
          "data": {
            "application/vnd.google.colaboratory.intrinsic+json": {
              "type": "string"
            },
            "text/plain": [
              "'/root/.keras/datasets/spa-eng/spa.txt'"
            ]
          },
          "metadata": {
            "tags": []
          },
          "execution_count": 21
        }
      ]
    },
    {
      "cell_type": "code",
      "metadata": {
        "id": "PSiydqnK4YxY"
      },
      "source": [
        "#convert unicode file to ascii\n",
        "#u\"Klüft skräms inför på fédéral électoral große\" ---> unicode version\n",
        "#u\"Kluft skrams infor pa federal electoral groe\" ----> ascii version\n",
        "def unicode_to_ascii(s):\n",
        "    return ''.join(c for c in unicodedata.normalize('NFD', s) if unicodedata.category(c) != 'Mn')"
      ],
      "execution_count": 22,
      "outputs": []
    },
    {
      "cell_type": "code",
      "metadata": {
        "id": "hDZBCbRT4YxZ"
      },
      "source": [
        "def preprocess_sentence(w):\n",
        "    w=unicode_to_ascii(w.lower().strip())\n",
        "    w = re.sub(r\"([?.!,¿])\", r\" \\1 \", w)\n",
        "    w = re.sub(r'[\" \"]+', \" \", w)\n",
        "    w = re.sub(r\"[^a-zA-Z?.!,¿]+\", \" \", w)\n",
        "    w = w.strip()\n",
        "    w = '<start> ' + w + ' <end>'\n",
        "    return w"
      ],
      "execution_count": 23,
      "outputs": []
    },
    {
      "cell_type": "code",
      "metadata": {
        "id": "0JI4yoah4Yxa"
      },
      "source": [
        "en_sentence = u\"May I borrow this book?\"\n",
        "nl_sentence = u\"¿Puedo tomar prestado este libro?\""
      ],
      "execution_count": 24,
      "outputs": []
    },
    {
      "cell_type": "code",
      "metadata": {
        "colab": {
          "base_uri": "https://localhost:8080/"
        },
        "id": "a0py8t9_4Yxb",
        "outputId": "990e7997-3926-40ed-e464-be39737892d6"
      },
      "source": [
        "print(preprocess_sentence(en_sentence))\n",
        "print(preprocess_sentence(nl_sentence))"
      ],
      "execution_count": 25,
      "outputs": [
        {
          "output_type": "stream",
          "text": [
            "<start> may i borrow this book ? <end>\n",
            "<start> ¿ puedo tomar prestado este libro ? <end>\n"
          ],
          "name": "stdout"
        }
      ]
    },
    {
      "cell_type": "code",
      "metadata": {
        "colab": {
          "base_uri": "https://localhost:8080/",
          "height": 35
        },
        "id": "dzleaNrd4Yxc",
        "outputId": "97afffe2-fc7c-4f67-b258-aaa9e8f0677e"
      },
      "source": [
        "unk_sentence=\"Klüft skräms inför på fédéral électoral große\"\n",
        "preprocess_sentence(unk_sentence)"
      ],
      "execution_count": 26,
      "outputs": [
        {
          "output_type": "execute_result",
          "data": {
            "application/vnd.google.colaboratory.intrinsic+json": {
              "type": "string"
            },
            "text/plain": [
              "'<start> kluft skrams infor pa federal electoral gro e <end>'"
            ]
          },
          "metadata": {
            "tags": []
          },
          "execution_count": 26
        }
      ]
    },
    {
      "cell_type": "code",
      "metadata": {
        "id": "Mmva17i34Yxd"
      },
      "source": [
        "def create_dataset(path,num_examples):\n",
        "    lines=io.open(path,encoding='UTF-8').read().strip().split('\\n')\n",
        "    word_pairs=[[preprocess_sentence(w) for w in line.split('\\t')[0:2]] for line in lines[:num_examples]]\n",
        "    \n",
        "    return zip(*word_pairs)"
      ],
      "execution_count": 27,
      "outputs": []
    },
    {
      "cell_type": "code",
      "metadata": {
        "colab": {
          "base_uri": "https://localhost:8080/"
        },
        "id": "nr7gqi9K4Yxd",
        "outputId": "969bf153-e450-4ba6-d780-735c6acef9bf"
      },
      "source": [
        "en,nl=create_dataset(path_to_file,None)\n",
        "l=len(en)\n",
        "print(l)\n",
        "for i in range(5):\n",
        "    n=np.random.randint(l)\n",
        "    print(en[n])\n",
        "    print(nl[n])\n",
        "    print(\"-----------------------------\")\n"
      ],
      "execution_count": 28,
      "outputs": [
        {
          "output_type": "stream",
          "text": [
            "118964\n",
            "<start> the island is warm all year . <end>\n",
            "<start> la isla es calida todo el ano . <end>\n",
            "-----------------------------\n",
            "<start> don t be late to school again . <end>\n",
            "<start> no vuelvas a llegar tarde al colegio . <end>\n",
            "-----------------------------\n",
            "<start> he didn t say in which year he was born . <end>\n",
            "<start> el no dijo en que ano nacio . <end>\n",
            "-----------------------------\n",
            "<start> tom was shot by a policeman . <end>\n",
            "<start> a tom le disparo un policia . <end>\n",
            "-----------------------------\n",
            "<start> i want more of that . <end>\n",
            "<start> quiero mas de eso . <end>\n",
            "-----------------------------\n"
          ],
          "name": "stdout"
        }
      ]
    },
    {
      "cell_type": "code",
      "metadata": {
        "id": "rEYmWrlt4Yxe"
      },
      "source": [
        "def tokenize(language):\n",
        "    language_tokenizer=tf.keras.preprocessing.text.Tokenizer(filters='')\n",
        "    language_tokenizer.fit_on_texts(language)\n",
        "    tensor=language_tokenizer.texts_to_sequences(language)\n",
        "    tensor = tf.keras.preprocessing.sequence.pad_sequences(tensor,\n",
        "                                                         padding='post')\n",
        "    return tensor,language_tokenizer"
      ],
      "execution_count": 29,
      "outputs": []
    },
    {
      "cell_type": "code",
      "metadata": {
        "colab": {
          "base_uri": "https://localhost:8080/"
        },
        "id": "9i7dC18_4Yxf",
        "outputId": "2ca61824-96f1-40d7-ffee-20beaecb1ad0"
      },
      "source": [
        "tokenize(en[0])"
      ],
      "execution_count": 30,
      "outputs": [
        {
          "output_type": "execute_result",
          "data": {
            "text/plain": [
              "(array([[ 1],\n",
              "        [ 4],\n",
              "        [ 2],\n",
              "        [ 5],\n",
              "        [ 6],\n",
              "        [ 2],\n",
              "        [ 3],\n",
              "        [ 0],\n",
              "        [ 7],\n",
              "        [ 8],\n",
              "        [ 0],\n",
              "        [ 9],\n",
              "        [ 0],\n",
              "        [ 1],\n",
              "        [10],\n",
              "        [11],\n",
              "        [12],\n",
              "        [ 3]], dtype=int32),\n",
              " <keras_preprocessing.text.Tokenizer at 0x7fc25e97e590>)"
            ]
          },
          "metadata": {
            "tags": []
          },
          "execution_count": 30
        }
      ]
    },
    {
      "cell_type": "code",
      "metadata": {
        "id": "ukBvrZji4Yxf"
      },
      "source": [
        "def load_dataset(path,num_examples=None):\n",
        "    targ_lang,inp_lang=create_dataset(path,num_examples)\n",
        "    input_tensor, inp_lang_tokenizer = tokenize(inp_lang)\n",
        "    target_tensor, targ_lang_tokenizer = tokenize(targ_lang)\n",
        "    return input_tensor,target_tensor,inp_lang_tokenizer,targ_lang_tokenizer"
      ],
      "execution_count": 31,
      "outputs": []
    },
    {
      "cell_type": "code",
      "metadata": {
        "id": "ctDxOFgH4Yxg"
      },
      "source": [
        "num_examples = 100000\n",
        "input_tensor,target_tensor,inp_lang,targ_lang=load_dataset(path_to_file, num_examples)"
      ],
      "execution_count": 32,
      "outputs": []
    },
    {
      "cell_type": "code",
      "metadata": {
        "colab": {
          "base_uri": "https://localhost:8080/"
        },
        "id": "yPkQh9Ij4Yxg",
        "outputId": "8e4c5699-20e6-416c-c615-e54ec9fa1413"
      },
      "source": [
        "max_length_targ,max_length_inp = target_tensor.shape[1], input_tensor.shape[1]\n",
        "print(max_length_targ,max_length_inp)"
      ],
      "execution_count": 33,
      "outputs": [
        {
          "output_type": "stream",
          "text": [
            "17 20\n"
          ],
          "name": "stdout"
        }
      ]
    },
    {
      "cell_type": "code",
      "metadata": {
        "colab": {
          "base_uri": "https://localhost:8080/"
        },
        "id": "20LHdk7a4Yxh",
        "outputId": "60c57eca-5733-47b3-9243-510338f6d5ea"
      },
      "source": [
        "input_tensor_train,input_tensor_val, target_tensor_train, target_tensor_val = train_test_split(input_tensor, target_tensor, test_size=0.2)\n",
        "print(len(input_tensor_train), len(target_tensor_train), len(input_tensor_val), len(target_tensor_val))"
      ],
      "execution_count": 34,
      "outputs": [
        {
          "output_type": "stream",
          "text": [
            "80000 80000 20000 20000\n"
          ],
          "name": "stdout"
        }
      ]
    },
    {
      "cell_type": "code",
      "metadata": {
        "id": "IYAm7skQ4Yxh"
      },
      "source": [
        "def convert(lang, tensor):\n",
        "    for t in tensor:\n",
        "        if t!=0:\n",
        "            print (\"%d ----> %s\" % (t, lang.index_word[t]))"
      ],
      "execution_count": 35,
      "outputs": []
    },
    {
      "cell_type": "code",
      "metadata": {
        "colab": {
          "base_uri": "https://localhost:8080/"
        },
        "id": "BseFP2_64Yxh",
        "outputId": "9235ba8c-3ca7-4766-c215-8af60c7e2970"
      },
      "source": [
        "print (\"Input Language; index to word mapping\")\n",
        "convert(inp_lang, input_tensor_train[0])\n",
        "print (\" \")\n",
        "print (\"Target Language; index to word mapping\")\n",
        "convert(targ_lang, target_tensor_train[0])"
      ],
      "execution_count": 36,
      "outputs": [
        {
          "output_type": "stream",
          "text": [
            "Input Language; index to word mapping\n",
            "1 ----> <start>\n",
            "37 ----> estoy\n",
            "1985 ----> deseando\n",
            "4 ----> que\n",
            "557 ----> llegue\n",
            "12 ----> la\n",
            "616 ----> navidad\n",
            "3 ----> .\n",
            "2 ----> <end>\n",
            " \n",
            "Target Language; index to word mapping\n",
            "1 ----> <start>\n",
            "4 ----> i\n",
            "90 ----> am\n",
            "257 ----> looking\n",
            "987 ----> forward\n",
            "7 ----> to\n",
            "576 ----> christmas\n",
            "3 ----> .\n",
            "2 ----> <end>\n"
          ],
          "name": "stdout"
        }
      ]
    },
    {
      "cell_type": "code",
      "metadata": {
        "id": "yf7OQfo34Yxi"
      },
      "source": [
        "buffer_size=len(input_tensor_train)\n",
        "batch_size=64\n",
        "steps_per_epoch = len(input_tensor_train)//batch_size\n",
        "embedding_dim = 256\n",
        "units = 1024\n",
        "vocab_inp_size = len(inp_lang.word_index)+1\n",
        "vocab_tar_size = len(targ_lang.word_index)+1\n",
        "dataset = tf.data.Dataset.from_tensor_slices((input_tensor_train, target_tensor_train)).shuffle(buffer_size)\n",
        "dataset = dataset.batch(batch_size, drop_remainder=True)"
      ],
      "execution_count": 37,
      "outputs": []
    },
    {
      "cell_type": "code",
      "metadata": {
        "colab": {
          "base_uri": "https://localhost:8080/"
        },
        "id": "9hznmxpz4Yxi",
        "outputId": "6cade487-b6d1-4183-cc1a-9d0dd85327c9"
      },
      "source": [
        "example_input_batch, example_target_batch = next(iter(dataset))\n",
        "example_input_batch.shape, example_target_batch.shape"
      ],
      "execution_count": 38,
      "outputs": [
        {
          "output_type": "execute_result",
          "data": {
            "text/plain": [
              "(TensorShape([64, 20]), TensorShape([64, 17]))"
            ]
          },
          "metadata": {
            "tags": []
          },
          "execution_count": 38
        }
      ]
    },
    {
      "cell_type": "markdown",
      "metadata": {
        "id": "K3GPutqS4Yxj"
      },
      "source": [
        "Bahdanau attention for the encoder\n",
        "\n",
        "FC = Fully connected (dense) layer\n",
        "\n",
        "EO = Encoder output\n",
        "\n",
        "H = hidden state\n",
        "\n",
        "X = input to the decoder\n",
        "\n",
        "pseudo-code:\n",
        "\n",
        "score = FC(tanh(FC(EO) + FC(H)))\n",
        "\n",
        "attention weights = softmax(score, axis = 1). Softmax by default is applied on the last axis but here we want to apply it on the 1st axis, since the shape of score is (batch_size, max_length, hidden_size). Max_length is the length of our input. Since we are trying to assign a weight to each input, softmax should be applied on that axis.\n",
        "\n",
        "context vector = sum(attention weights * EO, axis = 1). Same reason as above for choosing axis as 1.\n",
        "\n",
        "embedding output = The input to the decoder X is passed through an embedding layer.\n",
        "\n",
        "merged vector = concat(embedding output, context vector)\n",
        "\n",
        "This merged vector is then given to the GRU\n",
        "\n",
        "References:\n",
        "\n",
        "https://www.tensorflow.org/tutorials/text/nmt_with_attention\n",
        "\n",
        "https://arxiv.org/pdf/1409.0473.pdf\n",
        "\n",
        "https://github.com/tensorflow/nmt"
      ]
    },
    {
      "cell_type": "code",
      "metadata": {
        "id": "ymX2At4a4Yxj"
      },
      "source": [
        "class Encoder(tf.keras.Model):\n",
        "    \n",
        "    def __init__(self,vocab_size,embedding_dim,enc_units,batch_size):\n",
        "        super(Encoder, self).__init__()\n",
        "        self.batch_size = batch_size\n",
        "        self.enc_units = enc_units\n",
        "        self.embedding = tf.keras.layers.Embedding(vocab_size, embedding_dim)\n",
        "        self.gru = tf.keras.layers.GRU(self.enc_units,\n",
        "                                       return_sequences=True,\n",
        "                                       return_state=True,\n",
        "                                       recurrent_initializer='glorot_uniform')\n",
        "        \n",
        "    def call(self,x,hidden):\n",
        "        x=self.embedding(x)\n",
        "        output,state=self.gru(x,initial_state=hidden)\n",
        "        return output,state\n",
        "    \n",
        "    def initialize_hidden_state(self):\n",
        "        return tf.zeros((self.batch_size, self.enc_units))"
      ],
      "execution_count": 39,
      "outputs": []
    },
    {
      "cell_type": "code",
      "metadata": {
        "id": "qEWxuFDc4Yxk"
      },
      "source": [
        "encoder = Encoder(vocab_inp_size, embedding_dim, units,batch_size)"
      ],
      "execution_count": 40,
      "outputs": []
    },
    {
      "cell_type": "code",
      "metadata": {
        "id": "veK_L2sT4Yxk"
      },
      "source": [
        "sample_hidden=encoder.initialize_hidden_state()"
      ],
      "execution_count": 41,
      "outputs": []
    },
    {
      "cell_type": "code",
      "metadata": {
        "id": "M6aWOagL4Yxk"
      },
      "source": [
        "sample_output, sample_hidden = encoder(example_input_batch, sample_hidden)"
      ],
      "execution_count": 42,
      "outputs": []
    },
    {
      "cell_type": "code",
      "metadata": {
        "colab": {
          "base_uri": "https://localhost:8080/"
        },
        "id": "m1BrGzJB4Yxl",
        "outputId": "6739a462-eeb6-4a3b-fc2a-2c9e1cbee0a2"
      },
      "source": [
        "print (f'Encoder output shape: (batch size, sequence length, units) {sample_output.shape}')\n",
        "print (f'Encoder Hidden state shape: (batch size, units) {sample_hidden.shape}')"
      ],
      "execution_count": 43,
      "outputs": [
        {
          "output_type": "stream",
          "text": [
            "Encoder output shape: (batch size, sequence length, units) (64, 20, 1024)\n",
            "Encoder Hidden state shape: (batch size, units) (64, 1024)\n"
          ],
          "name": "stdout"
        }
      ]
    },
    {
      "cell_type": "code",
      "metadata": {
        "id": "yryi3wuV4Yxm"
      },
      "source": [
        "class BahdanauAttention(tf.keras.layers.Layer):\n",
        "\n",
        "    def __init__(self, units):\n",
        "        super(BahdanauAttention, self).__init__()\n",
        "        self.W1 = tf.keras.layers.Dense(units)\n",
        "        self.W2 = tf.keras.layers.Dense(units)\n",
        "        self.V = tf.keras.layers.Dense(1)\n",
        "        \n",
        "    def call(self, query, values):\n",
        "\n",
        "        query_with_time_axis = tf.expand_dims(query, 1)\n",
        "        score = self.V(tf.nn.tanh(self.W1(query_with_time_axis) + self.W2(values)))\n",
        "        attention_weights = tf.nn.softmax(score, axis=1)\n",
        "        context_vector = attention_weights * values\n",
        "        context_vector = tf.reduce_sum(context_vector, axis=1)\n",
        "\n",
        "        return context_vector, attention_weights"
      ],
      "execution_count": 44,
      "outputs": []
    },
    {
      "cell_type": "code",
      "metadata": {
        "colab": {
          "base_uri": "https://localhost:8080/"
        },
        "id": "mpSg1wIG4Yxm",
        "outputId": "70adc8f0-819e-47ea-f699-9f345ac243af"
      },
      "source": [
        "attention_layer = BahdanauAttention(10)\n",
        "attention_result, attention_weights = attention_layer(sample_hidden, sample_output)\n",
        "\n",
        "print(\"Attention result shape: (batch size, units) {}\".format(attention_result.shape))\n",
        "print(\"Attention weights shape: (batch_size, sequence_length, 1) {}\".format(attention_weights.shape))"
      ],
      "execution_count": 45,
      "outputs": [
        {
          "output_type": "stream",
          "text": [
            "Attention result shape: (batch size, units) (64, 1024)\n",
            "Attention weights shape: (batch_size, sequence_length, 1) (64, 20, 1)\n"
          ],
          "name": "stdout"
        }
      ]
    },
    {
      "cell_type": "code",
      "metadata": {
        "id": "XF1tlSCF4Yxn"
      },
      "source": [
        "class Decoder(tf.keras.Model):\n",
        "\n",
        "    def __init__(self, vocab_size, embedding_dim, dec_units, batch_size):\n",
        "        super(Decoder, self).__init__()\n",
        "        self.batch_size = batch_size\n",
        "        self.dec_units = dec_units\n",
        "        self.embedding = tf.keras.layers.Embedding(vocab_size, embedding_dim)\n",
        "        self.gru = tf.keras.layers.GRU(self.dec_units,\n",
        "                                       return_sequences=True,\n",
        "                                       return_state=True,\n",
        "                                       recurrent_initializer='glorot_uniform')\n",
        "        self.fc = tf.keras.layers.Dense(vocab_size)\n",
        "        self.attention = BahdanauAttention(self.dec_units)\n",
        "\n",
        "    def call(self, x, hidden, enc_output):\n",
        "\n",
        "        context_vector, attention_weights = self.attention(hidden, enc_output)\n",
        "        x = self.embedding(x)\n",
        "        x = tf.concat([tf.expand_dims(context_vector, 1), x], axis=-1)\n",
        "        output, state = self.gru(x)\n",
        "        output = tf.reshape(output, (-1, output.shape[2]))\n",
        "        x = self.fc(output)\n",
        "\n",
        "        return x, state, attention_weights"
      ],
      "execution_count": 46,
      "outputs": []
    },
    {
      "cell_type": "code",
      "metadata": {
        "colab": {
          "base_uri": "https://localhost:8080/"
        },
        "id": "bavcIMHr4Yxn",
        "outputId": "49393bb3-74c2-4fc7-cd6e-484e1be2acdc"
      },
      "source": [
        "decoder = Decoder(vocab_tar_size, embedding_dim, units, batch_size)\n",
        "\n",
        "sample_decoder_output, _, _ = decoder(tf.random.uniform((batch_size, 1)),\n",
        "                                      sample_hidden, sample_output)\n",
        "\n",
        "print ('Decoder output shape: (batch_size, vocab size) {}'.format(sample_decoder_output.shape))"
      ],
      "execution_count": 47,
      "outputs": [
        {
          "output_type": "stream",
          "text": [
            "Decoder output shape: (batch_size, vocab size) (64, 10785)\n"
          ],
          "name": "stdout"
        }
      ]
    },
    {
      "cell_type": "code",
      "metadata": {
        "id": "bsX2YrkB4Yxo"
      },
      "source": [
        "optimizer = tf.keras.optimizers.Adam()\n",
        "loss_object = tf.keras.losses.SparseCategoricalCrossentropy(from_logits=True, reduction='none')\n",
        "\n",
        "def loss_function(real, pred):\n",
        "    mask = tf.math.logical_not(tf.math.equal(real, 0))\n",
        "    loss_ = loss_object(real, pred)\n",
        "\n",
        "    mask = tf.cast(mask, dtype=loss_.dtype)\n",
        "    loss_ *= mask\n",
        "\n",
        "    return tf.reduce_mean(loss_)"
      ],
      "execution_count": 48,
      "outputs": []
    },
    {
      "cell_type": "code",
      "metadata": {
        "id": "9kUw1BVE4Yxo"
      },
      "source": [
        "checkpoint_dir = './training_checkpoints'\n",
        "checkpoint_prefix = os.path.join(checkpoint_dir, \"ckpt\")\n",
        "checkpoint = tf.train.Checkpoint(optimizer=optimizer,\n",
        "                                 encoder=encoder,\n",
        "                                 decoder=decoder)"
      ],
      "execution_count": 49,
      "outputs": []
    },
    {
      "cell_type": "code",
      "metadata": {
        "id": "jnTa6mwH4Yxp"
      },
      "source": [
        "@tf.function\r\n",
        "def train_step(inp, targ, enc_hidden):\r\n",
        "  loss = 0\r\n",
        "\r\n",
        "  with tf.GradientTape() as tape:\r\n",
        "    enc_output, enc_hidden = encoder(inp, enc_hidden)\r\n",
        "    dec_hidden = enc_hidden\r\n",
        "    dec_input = tf.expand_dims([targ_lang.word_index['<start>']] * batch_size, 1)\r\n",
        "    \r\n",
        "    for t in range(1, targ.shape[1]):\r\n",
        "      predictions, dec_hidden, _ = decoder(dec_input, dec_hidden, enc_output)\r\n",
        "      loss += loss_function(targ[:, t], predictions)\r\n",
        "      dec_input = tf.expand_dims(targ[:, t], 1)\r\n",
        "\r\n",
        "  batch_loss = (loss / int(targ.shape[1]))\r\n",
        "\r\n",
        "  variables = encoder.trainable_variables + decoder.trainable_variables\r\n",
        "\r\n",
        "  gradients = tape.gradient(loss, variables)\r\n",
        "\r\n",
        "  optimizer.apply_gradients(zip(gradients, variables))\r\n",
        "\r\n",
        "  return batch_loss"
      ],
      "execution_count": 50,
      "outputs": []
    },
    {
      "cell_type": "code",
      "metadata": {
        "colab": {
          "base_uri": "https://localhost:8080/"
        },
        "id": "6vHjdNFq5Lzb",
        "outputId": "e4fb6816-0ddf-495b-eb32-9df123df91bb"
      },
      "source": [
        "epochs = 10\r\n",
        "\r\n",
        "for epoch in range(epochs):\r\n",
        "  start = time.time()\r\n",
        "  enc_hidden = encoder.initialize_hidden_state()\r\n",
        "  total_loss = 0\r\n",
        "  for (batch, (inp, targ)) in enumerate(dataset.take(steps_per_epoch)):\r\n",
        "    batch_loss = train_step(inp, targ, enc_hidden)\r\n",
        "    total_loss += batch_loss\r\n",
        "    if batch % 100 == 0:\r\n",
        "      print('Epoch {} Batch {} Loss {:.4f}'.format(epoch + 1,\r\n",
        "                                                   batch,\r\n",
        "                                                   batch_loss.numpy()))\r\n",
        "  if (epoch + 1) % 2 == 0:\r\n",
        "    checkpoint.save(file_prefix = checkpoint_prefix)\r\n",
        "\r\n",
        "  print('Epoch {} Loss {:.4f}'.format(epoch + 1,\r\n",
        "                                      total_loss / steps_per_epoch))\r\n",
        "  print('Time taken for 1 epoch {} sec\\n'.format(time.time() - start))"
      ],
      "execution_count": 51,
      "outputs": [
        {
          "output_type": "stream",
          "text": [
            "Epoch 1 Batch 0 Loss 4.5489\n",
            "Epoch 1 Batch 100 Loss 2.1116\n",
            "Epoch 1 Batch 200 Loss 2.0521\n",
            "Epoch 1 Batch 300 Loss 1.8592\n",
            "Epoch 1 Batch 400 Loss 1.7546\n",
            "Epoch 1 Batch 500 Loss 1.7540\n",
            "Epoch 1 Batch 600 Loss 1.5703\n",
            "Epoch 1 Batch 700 Loss 1.4615\n",
            "Epoch 1 Batch 800 Loss 1.4870\n",
            "Epoch 1 Batch 900 Loss 1.5539\n",
            "Epoch 1 Batch 1000 Loss 1.2781\n",
            "Epoch 1 Batch 1100 Loss 1.1866\n",
            "Epoch 1 Batch 1200 Loss 1.1692\n",
            "Epoch 1 Loss 1.6527\n",
            "Time taken for 1 epoch 223.05416417121887 sec\n",
            "\n",
            "Epoch 2 Batch 0 Loss 1.1712\n",
            "Epoch 2 Batch 100 Loss 1.1311\n",
            "Epoch 2 Batch 200 Loss 1.0302\n",
            "Epoch 2 Batch 300 Loss 0.7353\n",
            "Epoch 2 Batch 400 Loss 0.7840\n",
            "Epoch 2 Batch 500 Loss 0.9653\n",
            "Epoch 2 Batch 600 Loss 0.8258\n",
            "Epoch 2 Batch 700 Loss 0.7271\n",
            "Epoch 2 Batch 800 Loss 0.6632\n",
            "Epoch 2 Batch 900 Loss 0.6744\n",
            "Epoch 2 Batch 1000 Loss 0.6868\n",
            "Epoch 2 Batch 1100 Loss 0.6506\n",
            "Epoch 2 Batch 1200 Loss 0.7265\n",
            "Epoch 2 Loss 0.8196\n",
            "Time taken for 1 epoch 208.6992471218109 sec\n",
            "\n",
            "Epoch 3 Batch 0 Loss 0.5288\n",
            "Epoch 3 Batch 100 Loss 0.4748\n",
            "Epoch 3 Batch 200 Loss 0.5209\n",
            "Epoch 3 Batch 300 Loss 0.4958\n",
            "Epoch 3 Batch 400 Loss 0.4838\n",
            "Epoch 3 Batch 500 Loss 0.5834\n",
            "Epoch 3 Batch 600 Loss 0.6057\n",
            "Epoch 3 Batch 700 Loss 0.5693\n",
            "Epoch 3 Batch 800 Loss 0.4650\n",
            "Epoch 3 Batch 900 Loss 0.5452\n",
            "Epoch 3 Batch 1000 Loss 0.4774\n",
            "Epoch 3 Batch 1100 Loss 0.4972\n",
            "Epoch 3 Batch 1200 Loss 0.4692\n",
            "Epoch 3 Loss 0.4864\n",
            "Time taken for 1 epoch 207.57822799682617 sec\n",
            "\n",
            "Epoch 4 Batch 0 Loss 0.3830\n",
            "Epoch 4 Batch 100 Loss 0.3304\n",
            "Epoch 4 Batch 200 Loss 0.3658\n",
            "Epoch 4 Batch 300 Loss 0.3340\n",
            "Epoch 4 Batch 400 Loss 0.3734\n",
            "Epoch 4 Batch 500 Loss 0.2907\n",
            "Epoch 4 Batch 600 Loss 0.3531\n",
            "Epoch 4 Batch 700 Loss 0.3212\n",
            "Epoch 4 Batch 800 Loss 0.3075\n",
            "Epoch 4 Batch 900 Loss 0.3686\n",
            "Epoch 4 Batch 1000 Loss 0.3018\n",
            "Epoch 4 Batch 1100 Loss 0.3634\n",
            "Epoch 4 Batch 1200 Loss 0.3628\n",
            "Epoch 4 Loss 0.3267\n",
            "Time taken for 1 epoch 208.30505990982056 sec\n",
            "\n",
            "Epoch 5 Batch 0 Loss 0.1970\n",
            "Epoch 5 Batch 100 Loss 0.2131\n",
            "Epoch 5 Batch 200 Loss 0.2099\n",
            "Epoch 5 Batch 300 Loss 0.2225\n",
            "Epoch 5 Batch 400 Loss 0.2102\n",
            "Epoch 5 Batch 500 Loss 0.1974\n",
            "Epoch 5 Batch 600 Loss 0.2012\n",
            "Epoch 5 Batch 700 Loss 0.2895\n",
            "Epoch 5 Batch 800 Loss 0.2885\n",
            "Epoch 5 Batch 900 Loss 0.2772\n",
            "Epoch 5 Batch 1000 Loss 0.2435\n",
            "Epoch 5 Batch 1100 Loss 0.2344\n",
            "Epoch 5 Batch 1200 Loss 0.2453\n",
            "Epoch 5 Loss 0.2349\n",
            "Time taken for 1 epoch 207.8027470111847 sec\n",
            "\n",
            "Epoch 6 Batch 0 Loss 0.1732\n",
            "Epoch 6 Batch 100 Loss 0.1984\n",
            "Epoch 6 Batch 200 Loss 0.1758\n",
            "Epoch 6 Batch 300 Loss 0.1834\n",
            "Epoch 6 Batch 400 Loss 0.1799\n",
            "Epoch 6 Batch 500 Loss 0.1433\n",
            "Epoch 6 Batch 600 Loss 0.2096\n",
            "Epoch 6 Batch 700 Loss 0.1555\n",
            "Epoch 6 Batch 800 Loss 0.1717\n",
            "Epoch 6 Batch 900 Loss 0.2180\n",
            "Epoch 6 Batch 1000 Loss 0.1729\n",
            "Epoch 6 Batch 1100 Loss 0.2007\n",
            "Epoch 6 Batch 1200 Loss 0.1990\n",
            "Epoch 6 Loss 0.1780\n",
            "Time taken for 1 epoch 208.56477570533752 sec\n",
            "\n",
            "Epoch 7 Batch 0 Loss 0.1267\n",
            "Epoch 7 Batch 100 Loss 0.1235\n",
            "Epoch 7 Batch 200 Loss 0.0876\n",
            "Epoch 7 Batch 300 Loss 0.1077\n",
            "Epoch 7 Batch 400 Loss 0.1235\n",
            "Epoch 7 Batch 500 Loss 0.1298\n",
            "Epoch 7 Batch 600 Loss 0.1461\n",
            "Epoch 7 Batch 700 Loss 0.1041\n",
            "Epoch 7 Batch 800 Loss 0.1335\n",
            "Epoch 7 Batch 900 Loss 0.1573\n",
            "Epoch 7 Batch 1000 Loss 0.1833\n",
            "Epoch 7 Batch 1100 Loss 0.2079\n",
            "Epoch 7 Batch 1200 Loss 0.1583\n",
            "Epoch 7 Loss 0.1383\n",
            "Time taken for 1 epoch 207.11463689804077 sec\n",
            "\n",
            "Epoch 8 Batch 0 Loss 0.0861\n",
            "Epoch 8 Batch 100 Loss 0.1182\n",
            "Epoch 8 Batch 200 Loss 0.0748\n",
            "Epoch 8 Batch 300 Loss 0.0932\n",
            "Epoch 8 Batch 400 Loss 0.1058\n",
            "Epoch 8 Batch 500 Loss 0.1000\n",
            "Epoch 8 Batch 600 Loss 0.1359\n",
            "Epoch 8 Batch 700 Loss 0.1109\n",
            "Epoch 8 Batch 800 Loss 0.1034\n",
            "Epoch 8 Batch 900 Loss 0.1389\n",
            "Epoch 8 Batch 1000 Loss 0.1273\n",
            "Epoch 8 Batch 1100 Loss 0.1568\n",
            "Epoch 8 Batch 1200 Loss 0.1227\n",
            "Epoch 8 Loss 0.1114\n",
            "Time taken for 1 epoch 209.0249559879303 sec\n",
            "\n",
            "Epoch 9 Batch 0 Loss 0.0862\n",
            "Epoch 9 Batch 100 Loss 0.1020\n",
            "Epoch 9 Batch 200 Loss 0.1024\n",
            "Epoch 9 Batch 300 Loss 0.0526\n",
            "Epoch 9 Batch 400 Loss 0.0652\n",
            "Epoch 9 Batch 500 Loss 0.0917\n",
            "Epoch 9 Batch 600 Loss 0.0923\n",
            "Epoch 9 Batch 700 Loss 0.1276\n",
            "Epoch 9 Batch 800 Loss 0.0975\n",
            "Epoch 9 Batch 900 Loss 0.0925\n",
            "Epoch 9 Batch 1000 Loss 0.1324\n",
            "Epoch 9 Batch 1100 Loss 0.0933\n",
            "Epoch 9 Batch 1200 Loss 0.1227\n",
            "Epoch 9 Loss 0.0907\n",
            "Time taken for 1 epoch 207.9201843738556 sec\n",
            "\n",
            "Epoch 10 Batch 0 Loss 0.0411\n",
            "Epoch 10 Batch 100 Loss 0.0538\n",
            "Epoch 10 Batch 200 Loss 0.0562\n",
            "Epoch 10 Batch 300 Loss 0.0705\n",
            "Epoch 10 Batch 400 Loss 0.0916\n",
            "Epoch 10 Batch 500 Loss 0.0776\n",
            "Epoch 10 Batch 600 Loss 0.0861\n",
            "Epoch 10 Batch 700 Loss 0.0839\n",
            "Epoch 10 Batch 800 Loss 0.0803\n",
            "Epoch 10 Batch 900 Loss 0.0519\n",
            "Epoch 10 Batch 1000 Loss 0.0823\n",
            "Epoch 10 Batch 1100 Loss 0.0699\n",
            "Epoch 10 Batch 1200 Loss 0.0860\n",
            "Epoch 10 Loss 0.0796\n",
            "Time taken for 1 epoch 208.32564663887024 sec\n",
            "\n"
          ],
          "name": "stdout"
        }
      ]
    },
    {
      "cell_type": "code",
      "metadata": {
        "id": "jSWSPR5P5d-y"
      },
      "source": [
        "def evaluate(sentence):\r\n",
        "  attention_plot = np.zeros((max_length_targ, max_length_inp))\r\n",
        "\r\n",
        "  sentence = preprocess_sentence(sentence)\r\n",
        "\r\n",
        "  inputs = [inp_lang.word_index[i] for i in sentence.split(' ')]\r\n",
        "  inputs = tf.keras.preprocessing.sequence.pad_sequences([inputs],\r\n",
        "                                                         maxlen=max_length_inp,\r\n",
        "                                                         padding='post')\r\n",
        "  inputs = tf.convert_to_tensor(inputs)\r\n",
        "\r\n",
        "  result = ''\r\n",
        "\r\n",
        "  hidden = [tf.zeros((1, units))]\r\n",
        "  enc_out, enc_hidden = encoder(inputs, hidden)\r\n",
        "\r\n",
        "  dec_hidden = enc_hidden\r\n",
        "  dec_input = tf.expand_dims([targ_lang.word_index['<start>']], 0)\r\n",
        "\r\n",
        "  for t in range(max_length_targ):\r\n",
        "    predictions, dec_hidden, attention_weights = decoder(dec_input,\r\n",
        "                                                         dec_hidden,\r\n",
        "                                                         enc_out)\r\n",
        "\r\n",
        "    attention_weights = tf.reshape(attention_weights, (-1, ))\r\n",
        "    attention_plot[t] = attention_weights.numpy()\r\n",
        "\r\n",
        "    predicted_id = tf.argmax(predictions[0]).numpy()\r\n",
        "\r\n",
        "    result += targ_lang.index_word[predicted_id] + ' '\r\n",
        "\r\n",
        "    if targ_lang.index_word[predicted_id] == '<end>':\r\n",
        "      return result, sentence, attention_plot\r\n",
        "\r\n",
        "    dec_input = tf.expand_dims([predicted_id], 0)\r\n",
        "\r\n",
        "  return result, sentence, attention_plot"
      ],
      "execution_count": 52,
      "outputs": []
    },
    {
      "cell_type": "code",
      "metadata": {
        "id": "7BUjhy3G93iS"
      },
      "source": [
        "def plot_attention(attention, sentence, predicted_sentence):\r\n",
        "  fig = plt.figure(figsize=(10,10))\r\n",
        "  ax = fig.add_subplot(1, 1, 1)\r\n",
        "  ax.matshow(attention, cmap='viridis')\r\n",
        "\r\n",
        "  fontdict = {'fontsize': 14}\r\n",
        "\r\n",
        "  ax.set_xticklabels([''] + sentence, fontdict=fontdict, rotation=90)\r\n",
        "  ax.set_yticklabels([''] + predicted_sentence, fontdict=fontdict)\r\n",
        "\r\n",
        "  ax.xaxis.set_major_locator(ticker.MultipleLocator(1))\r\n",
        "  ax.yaxis.set_major_locator(ticker.MultipleLocator(1))\r\n",
        "\r\n",
        "  plt.show()"
      ],
      "execution_count": 53,
      "outputs": []
    },
    {
      "cell_type": "code",
      "metadata": {
        "id": "AxsznZV76RgF"
      },
      "source": [
        "def translate(sentence):\r\n",
        "  result, sentence, attention_plot = evaluate(sentence)\r\n",
        "\r\n",
        "  print('Input: %s' % (sentence))\r\n",
        "  print('Predicted translation: {}'.format(result))\r\n",
        "\r\n",
        "  attention_plot = attention_plot[:len(result.split(' ')), :len(sentence.split(' '))]\r\n",
        "  plot_attention(attention_plot, sentence.split(' '), result.split(' '))"
      ],
      "execution_count": 54,
      "outputs": []
    },
    {
      "cell_type": "code",
      "metadata": {
        "colab": {
          "base_uri": "https://localhost:8080/"
        },
        "id": "Jd90eUs46X0v",
        "outputId": "a3f18e28-aa4b-483b-b2f0-86a380b9c723"
      },
      "source": [
        "checkpoint.restore(tf.train.latest_checkpoint(checkpoint_dir))"
      ],
      "execution_count": 55,
      "outputs": [
        {
          "output_type": "execute_result",
          "data": {
            "text/plain": [
              "<tensorflow.python.training.tracking.util.CheckpointLoadStatus at 0x7fc25bf88b90>"
            ]
          },
          "metadata": {
            "tags": []
          },
          "execution_count": 55
        }
      ]
    },
    {
      "cell_type": "code",
      "metadata": {
        "colab": {
          "base_uri": "https://localhost:8080/",
          "height": 674
        },
        "id": "Gc25EBUW6cQx",
        "outputId": "72b2c1b4-ccb3-4ad1-ab22-f39f90cc14fa"
      },
      "source": [
        "translate(u'hace mucho frio aqui.')"
      ],
      "execution_count": 56,
      "outputs": [
        {
          "output_type": "stream",
          "text": [
            "Input: <start> hace mucho frio aqui . <end>\n",
            "Predicted translation: it s very cold here . <end> \n"
          ],
          "name": "stdout"
        },
        {
          "output_type": "display_data",
          "data": {
            "image/png": "[encoded data removed]",
            "text/plain": [
              "<Figure size 720x720 with 1 Axes>"
            ]
          },
          "metadata": {
            "tags": [],
            "needs_background": "light"
          }
        }
      ]
    },
    {
      "cell_type": "code",
      "metadata": {
        "id": "-OW9fCf26ebh"
      },
      "source": [
        ""
      ],
      "execution_count": null,
      "outputs": []
    }
  ]
}